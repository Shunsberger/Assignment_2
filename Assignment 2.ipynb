{
 "cells": [
  {
   "cell_type": "markdown",
   "metadata": {},
   "source": [
    "# Problem 1 (5 points)\n",
    "\n",
    "Write a simple program to compute the tax on an order amount. The program should prompt for the order amount and the state. If the state is “WI,” then the order must be charged 5.5% tax. The program should display the subtotal, tax, and total for Wisconsin residents but display just the total for non-residents.\n",
    "\n",
    "## Example Output\n",
    "<pre>\n",
    "What is the order amount? 10\n",
    "What is the state? WI\n",
    "The subtotal is $10.00.\n",
    "The tax is $0.55.\n",
    "The total is $10.55.\n",
    "</pre>\n",
    "\n",
    "Or\n",
    "\n",
    "<pre>\n",
    "What is the order amount? 10\n",
    "What is the state? MN\n",
    "The total is $10.00\n",
    "</pre>\n",
    "\n",
    "## Constraints\n",
    "\n",
    "- Implement this program using only a simple if statement—don’t use an else clause.\n",
    "- Ensure that all money is rounded up to the nearest cent.\n",
    "- Use a single output statement at the end of the program to display the program results."
   ]
  },
  {
   "cell_type": "code",
   "execution_count": 6,
   "metadata": {
    "collapsed": false
   },
   "outputs": [
    {
     "name": "stdout",
     "output_type": "stream",
     "text": [
      "What is the order amount? 10\n",
      "What is the state? wi\n",
      "The subtotal is $10.00 \n",
      "The tax is $0.55 \n",
      "The total is $10.55\n"
     ]
    }
   ],
   "source": [
    "def problem1():\n",
    "    \n",
    "    order = float(input(\"What is the order amount? \"))\n",
    "    state = input(\"What is the state? \")\n",
    "    output = \"The total is {}\".format(order)\n",
    "    if (state.upper() == \"WI\"):\n",
    "        tax = order * .055\n",
    "        total = order + tax\n",
    "        output = \"The subtotal is ${:.2f} \\nThe tax is ${:.2f} \\nThe total is ${:.2f}\".format(order,tax,total)\n",
    "        \n",
    "    print(output) # If user inputs wi or WI, will print subtotal, tax, and total, otherwise just prints total\n",
    "\n",
    "problem1()"
   ]
  },
  {
   "cell_type": "markdown",
   "metadata": {},
   "source": [
    "# Problem 2 (4 points)\n",
    "\n",
    "Create a simple program that validates user login credentials. The program must prompt the user for a username and password. The program should compare the password given by the user to a known password. If the password matches, the program should display “Welcome!” If it doesn’t match, the program should display “I don’t know you.”\n",
    "\n",
    "## Example Output\n",
    "\n",
    "<pre>\n",
    "What is the password? 12345\n",
    "I don't know you.\n",
    "</pre>\n",
    "\n",
    "Or\n",
    "\n",
    "<pre>\n",
    "What is the password? abc$123\n",
    "Welcome!\n",
    "</pre>\n",
    "\n",
    "## Constraints\n",
    "\n",
    "- Use an if/else statement for this problem.\n",
    "- Make sure the program is case sensitive."
   ]
  },
  {
   "cell_type": "code",
   "execution_count": 7,
   "metadata": {
    "collapsed": false
   },
   "outputs": [
    {
     "name": "stdout",
     "output_type": "stream",
     "text": [
      "Enter username: bob\n",
      "What is the password? abc$123\n",
      "Welcome!\n"
     ]
    }
   ],
   "source": [
    "def problem2():\n",
    "    \n",
    "    user = input(\"Enter username: \")\n",
    "    pword = input(\"What is the password? \")\n",
    "    \n",
    "    if user == \"Shane\": \n",
    "        if pword == \"Goose\": # Assigns my dogs nickname with capital G as only acceptable password for me\n",
    "            print(\"Welcome!\")\n",
    "        else:\n",
    "            print(\"I don't know you.\")\n",
    "    else: # If user is not Shane, will assign generic password\n",
    "        if pword == \"abc$123\": # Must match case or will not be accepted\n",
    "             print(\"Welcome!\")\n",
    "        else:\n",
    "            print(\"I don't know you.\")\n",
    "\n",
    "problem2()"
   ]
  },
  {
   "cell_type": "markdown",
   "metadata": {},
   "source": [
    "# Problem 3 (3 points)\n",
    "\n",
    "Write a program that asks the user for their age and compare it to the legal driving age of sixteen. If the user is sixteen or older, then the program should display “You are old enough to legally drive.” If the user is under sixteen, the program should display “You are not old enough to legally drive.”\n",
    "\n",
    "## Example Output\n",
    "\n",
    "<pre>\n",
    "What is your age? 15\n",
    "You are not old enough to legally drive.\n",
    "</pre>\n",
    "\n",
    "Or\n",
    "\n",
    "<pre>\n",
    "What is your age? 35\n",
    "You are old enough to legally drive.\n",
    "</pre>\n",
    "\n",
    "## Constraints\n",
    "\n",
    "- Use a single output statement."
   ]
  },
  {
   "cell_type": "code",
   "execution_count": 8,
   "metadata": {
    "collapsed": false
   },
   "outputs": [
    {
     "name": "stdout",
     "output_type": "stream",
     "text": [
      "What is your age? 16\n",
      "You are old enough to legally drive\n"
     ]
    }
   ],
   "source": [
    "def problem3():\n",
    "    age = int(input(\"What is your age? \"))\n",
    "    output = \"\" # Creates variable output that is empty, will be populated in if statement depending on age parameter\n",
    "\n",
    "    if age >= 16:\n",
    "        output = \"You are old enough to legally drive\"\n",
    "    else:\n",
    "        output = \"You are not old enough to legally drive\"\n",
    "    \n",
    "    print(output) # Prints output dependent on age\n",
    "problem3()"
   ]
  },
  {
   "cell_type": "markdown",
   "metadata": {},
   "source": [
    "# Problem 4 (3 points)\n",
    "\n",
    "Create a program that prompts for your weight, gender, number of drinks, the amount of alcohol by volume of the drinks consumed, and the amount of time since your last drink. Calculate your blood alcohol content (BAC) using this formula $BAC = (A \\times 5.14 / W \\times r) - 0.015 \\times H$\n",
    "\n",
    "where\n",
    "\n",
    "- A is total alcohol consumed, in ounces (oz).\n",
    "- W is body weight in pounds.\n",
    "- r is the alcohol distribution ratio:\n",
    "  - 0.73 for men\n",
    "  - 0.66 for women\n",
    "- H is number of hours since the last drink.\n",
    "\n",
    "Display whether or not it’s legal to drive by comparing the blood alcohol content to 0.08.\n",
    "\n",
    "## Example Output\n",
    "<pre>\n",
    "Your BAC is 0.08\n",
    "It is not legal for you to drive.\n",
    "</pre>\n",
    "\n",
    "## Constraint\n",
    "\n",
    "- Prevent the user from entering non-numeric values."
   ]
  },
  {
   "cell_type": "code",
   "execution_count": 9,
   "metadata": {
    "collapsed": false
   },
   "outputs": [
    {
     "name": "stdout",
     "output_type": "stream",
     "text": [
      "What is your weight in lbs? 200\n",
      "What is your gender? Enter 1 for male or 2 for female: 1\n",
      "Enter amount of drinks in ozs: 72\n",
      "What is the alcohol by volume of the drinks? 6\n",
      "How many hours since your last drink? 2\n",
      "Your BAC is 0.12 \n",
      "It is not legal for you to drive.\n"
     ]
    }
   ],
   "source": [
    "def problem4():\n",
    "    weight = float(input(\"What is your weight in lbs? \"))\n",
    "    gender = int(input(\"What is your gender? Enter 1 for male or 2 for female: \"))\n",
    "    if gender == 1:\n",
    "        r = .73 # r = alcohol distribution ratio\n",
    "    elif gender == 2: \n",
    "        r = .66\n",
    "    drinks = float(input(\"Enter amount of drinks in ozs: \"))\n",
    "    abv = float(input(\"What is the alcohol by volume of the drinks? \"))\n",
    "    hours = float(input(\"How many hours since your last drink? \"))\n",
    "    a = (drinks * abv) / 100 # Since abv is in percent, divides by 100 to find alcoholic consumed in ozs\n",
    "    bac =(a * 5.14 / (weight * r) - (0.015 * hours))\n",
    "    \n",
    "    if bac >= .08: # Any bac .08 or above will return \"not legal\"\n",
    "        drive = \"It is not legal for you to drive.\"\n",
    "    else:\n",
    "        drive = \"It is legal for you to drive.\"\n",
    "    \n",
    "    print(\"Your BAC is {:.2f} \\n{}\".format(bac,drive))\n",
    "    \n",
    "problem4()"
   ]
  },
  {
   "cell_type": "markdown",
   "metadata": {},
   "source": [
    "# Problem 5 (4 points)\n",
    "\n",
    "Create a program that converts temperatures from Fahrenheit to Celsius or from Celsius to Fahrenheit. Prompt for the starting temperature. The program should prompt for the type of conversion and then perform the conversion.\n",
    "\n",
    "The formulas are\n",
    "\n",
    "$C = (F - 32) \\times 5/9$\n",
    "\n",
    "and\n",
    "\n",
    "$F = (C \\times 9/5) + 32$\n",
    "1\n",
    "## Example Output\n",
    "\n",
    "<pre>\n",
    "Press C to convert from Fahrenheit to Celsius.\n",
    "Press F to convert from Celsius to Fahrenheit.\n",
    "Your choice: C\n",
    "Please enter the temperature in Fahrenheit: 32\n",
    "The temperature in Celsius is 0.\n",
    "</pre>\n",
    "\n",
    "## Constraints\n",
    "\n",
    "- Ensure that you allow upper or lowercase values for C and F.\n",
    "- Use as few output statements as possible and avoid repeating output strings."
   ]
  },
  {
   "cell_type": "code",
   "execution_count": 153,
   "metadata": {
    "collapsed": false
   },
   "outputs": [
    {
     "name": "stdout",
     "output_type": "stream",
     "text": [
      "Press C to convert from Fahrenheit to Celsius. \n",
      "Press F to convert from Celsius to Fahrenheit: c\n",
      "Please enter the temperature in Fahrenheit: 32\n",
      "The temperature in Celsius is 0.0\n"
     ]
    }
   ],
   "source": [
    "def problem5():\n",
    "    \n",
    "    temp = input(\"Press C to convert from Fahrenheit to Celsius. \\nPress F to convert from Celsius to Fahrenheit: \")\n",
    "    if temp.upper() == 'F':\n",
    "        other = 'Fahrenheit' # other represents what the program is going to convert the input into\n",
    "        convert = float(input(\"Please enter the temperature in Celsius: \"))\n",
    "        conversion = (convert * (9/5) + 32)\n",
    "    elif temp.upper() == 'C':\n",
    "        other = 'Celsius'\n",
    "        convert = float(input(\"Please enter the temperature in Fahrenheit: \"))\n",
    "        conversion = (convert - 32) * (5/9)\n",
    "        \n",
    "    print(\"The temperature in {} is {:.1f}\".format(other, conversion))\n",
    "    \n",
    "problem5() "
   ]
  },
  {
   "cell_type": "markdown",
   "metadata": {},
   "source": [
    "# Problem 6 (3 points)\n",
    "\n",
    "Create a program to calculate the body mass index (BMI) for a person using the person’s height in inches and weight in pounds. The program should prompt the user for weight and height.\n",
    "\n",
    "Calculate the BMI by using the following formula: $bmi = (weight / (height \\times height)) \\times 703$\n",
    "\n",
    "If the BMI is between 18.5 and 25, display that the person is at a normal weight. If they are out of that range, tell them if they are underweight or overweight and tell them to consult their doctor.\n",
    "\n",
    "## Example Output\n",
    "\n",
    "<pre>\n",
    "Your BMI is 19.5.\n",
    "You are within the ideal weight range.\n",
    "</pre>\n",
    "\n",
    "or\n",
    "\n",
    "<pre>\n",
    "Your BMI is 32.5.\n",
    "You are overweight. You should see your doctor.\n",
    "</pre>\n",
    "\n",
    "## Constraint\n",
    "\n",
    "- Ensure your program takes only numeric data. Don’t let the user continue unless the data is valid."
   ]
  },
  {
   "cell_type": "code",
   "execution_count": 11,
   "metadata": {
    "collapsed": false
   },
   "outputs": [
    {
     "name": "stdout",
     "output_type": "stream",
     "text": [
      "What is your height in inches? 72\n",
      "What is your weight in lbs? 200\n",
      "Your BMI is 27.1 \n",
      "You are overweight. You should see your doctor\n"
     ]
    }
   ],
   "source": [
    "def problem6():\n",
    "    \n",
    "    height = float(input(\"What is your height in inches? \"))\n",
    "    weight = float(input(\"What is your weight in lbs? \"))\n",
    "    \n",
    "    \n",
    "    bmi = ((weight / (height ** 2)) * 703)\n",
    "    \n",
    "    # includes any bmi under 18.5\n",
    "    if bmi < 18.5:\n",
    "        out = (\"You are underweight. You should see your doctor\")\n",
    "    # includes any bmi between 18.5 and 25\n",
    "    elif bmi >= 18.5 and bmi <= 25:\n",
    "        out = (\"You are within the ideal weight range.\")\n",
    "    # includes any bmi not covered\n",
    "    else:\n",
    "        out = (\"You are overweight. You should see your doctor\")\n",
    "    # outputs calculated bmi and the appropriate output   \n",
    "    print(\"Your BMI is {:.1f} \\n{}\".format(bmi,out))\n",
    "    \n",
    "problem6()"
   ]
  },
  {
   "cell_type": "markdown",
   "metadata": {},
   "source": [
    "# Problem 7 (4 points)\n",
    "\n",
    "Create a tax calculator that handles multiple states and multiple counties within each state. The program prompts the user for the order amount and the state where the order will be shipped.\n",
    "\n",
    "Wisconsin residents are charged a base tax of 5%. Wisconsin residents are also charged additional tax based on their county of residence.\n",
    "- For Eau Claire county residents, add an additional 0.005 tax.\n",
    "- For Dunn county residents, add an additional 0.004 tax.\n",
    "\n",
    "Illinois residents must be charged 8% sales tax with no additional county-level charge. All other states are not charged tax. The program then displays the tax and the total for Wisconsin and Illinois residents but just the total for everyone else.\n",
    "\n",
    "## Example Output\n",
    "\n",
    "<pre>\n",
    "What is the order amount? 10\n",
    "What state do you live in? Wisconsin\n",
    "What county do you live in? Eau Claire\n",
    "The tax is $0.55.\n",
    "The total is $10.55.\n",
    "</pre>\n",
    "\n",
    "## Constraints\n",
    "\n",
    "- Ensure that all money is rounded up to the nearest cent.\n",
    "- Use a single output statement at the end of the program to display the program results."
   ]
  },
  {
   "cell_type": "code",
   "execution_count": 12,
   "metadata": {
    "collapsed": false
   },
   "outputs": [
    {
     "name": "stdout",
     "output_type": "stream",
     "text": [
      "What is the order amount? 10\n",
      "What state do you live in? wisconsin\n",
      "What county do you live in? eau claire\n",
      "The tax is $0.55 \n",
      "The total is $10.55\n"
     ]
    }
   ],
   "source": [
    "def problem7():\n",
    "    \n",
    "    order = float(input(\"What is the order amount? \"))\n",
    "    state = input(\"What state do you live in? \")\n",
    "    tax = 0\n",
    "       \n",
    "    if state.upper() == 'WISCONSIN' or state.upper() == 'WI': # Allows user to spell out state or enter abbreviation\n",
    "        county = input(\"What county do you live in? \") # Only asks county if user inputs wisconsin\n",
    "        if county.upper() == 'EAU CLAIRE': # Designates appropriate tax rate based on county\n",
    "            tax_rate = .055\n",
    "            tax = order * tax_rate\n",
    "            total = order + tax\n",
    "            output = (\"The tax is ${:.2f} \\nThe total is ${:.2f}\".format(tax,total))\n",
    "        elif county.upper() == 'DUNN': # Designates appropriate tax rate based on county\n",
    "            tax_rate = .054\n",
    "            tax = order * tax_rate\n",
    "            total = order + tax\n",
    "            output = (\"The tax is ${:.2f} \\nThe total is ${:.2f}\".format(tax,total))\n",
    "        else: # Keeps tax rate at 5% if county is not Eau Claire or Dunn\n",
    "            tax_rate = .05\n",
    "            tax = order * tax_rate\n",
    "            total = order + tax\n",
    "            output = (\"The tax is ${:.2f} \\nThe total is ${:.2f}\".format(tax,total))\n",
    "            \n",
    "    elif state.upper() == 'ILLINOIS' or state.upper() == 'IL': # Allows user to spell out state or enter abbreviation\n",
    "            tax_rate = .08 # Designates tax rate of 8% if entered state is Illinois\n",
    "            tax = order * tax_rate\n",
    "            total = order + tax\n",
    "            output = (\"The tax is ${:.2f} \\nThe total is ${:.2f}\".format(tax,total))\n",
    "    \n",
    "    else: # If user inputs any state other than Wisconsin or Illinois, just prints total without tax\n",
    "        output = output = \"The total is ${:.2f}\".format(order)\n",
    "        \n",
    "    print(output)\n",
    "    \n",
    "problem7()"
   ]
  },
  {
   "cell_type": "markdown",
   "metadata": {},
   "source": [
    "# Problem 8 (3 points)\n",
    "\n",
    "Write a program that converts a number from 1 to 12 to the corresponding month. Prompt for a number and display the corresponding calendar month, with 1 being January and 12 being December. For any value outside that range, display an appropriate error message.\n",
    "\n",
    "## Example Output\n",
    "\n",
    "<pre>\n",
    "Please enter the number of the month: 3\n",
    "The name of the month is March.\n",
    "</pre>\n",
    "\n",
    "## Constraints\n",
    "\n",
    "- Use a single output statement for this program."
   ]
  },
  {
   "cell_type": "code",
   "execution_count": 13,
   "metadata": {
    "collapsed": false
   },
   "outputs": [
    {
     "name": "stdout",
     "output_type": "stream",
     "text": [
      "Please enter the number of the month: 3\n",
      "The name of the month is March\n"
     ]
    }
   ],
   "source": [
    "def problem8():\n",
    "    \n",
    "    num = int(input(\"Please enter the number of the month: \"))\n",
    "    # Assigns numbers 1-12 to corresponding months\n",
    "    if num == 1:\n",
    "        month = 'January'\n",
    "    elif num == 2:\n",
    "        month = 'February'\n",
    "    elif num == 3:\n",
    "        month = 'March'\n",
    "    elif num == 4:\n",
    "        month = 'April'\n",
    "    elif num == 5:\n",
    "        month = 'May'\n",
    "    elif num == 6:\n",
    "        month = 'June'\n",
    "    elif num == 7:\n",
    "        month = 'July'\n",
    "    elif num == 8:\n",
    "        month = 'August'\n",
    "    elif num == 9:\n",
    "        month = 'September'\n",
    "    elif num == 10:\n",
    "        month = 'October'\n",
    "    elif num == 11:\n",
    "        month = 'November'\n",
    "    elif num == 12:\n",
    "        month = 'December'\n",
    "    else: # Ensures user enters a number between 1 and 12. If they entered another number, it will print statement below\n",
    "        print(\"There are not {} months.\".format(num))\n",
    "    \n",
    "    print(\"The name of the month is {}\".format(month))\n",
    "    \n",
    "problem8()"
   ]
  },
  {
   "cell_type": "markdown",
   "metadata": {},
   "source": [
    "# Problem 9 (4 points)\n",
    "\n",
    "Create a program that compares two strings and determines if the two strings are anagrams. The program should prompt for both input strings and display the output as shown in the example that follows.\n",
    "\n",
    "## Example Output\n",
    "\n",
    "<pre>\n",
    "Enter two strings and I'll tell you if they are anagrams:\n",
    "Enter the first string: note\n",
    "Enter the second string: tone\n",
    "\"note\" and \"tone\" are anagrams.\n",
    "</pre>\n",
    "\n",
    "## Constraints\n",
    "\n",
    "- Implement the program using a function called `isAnagram`, which takes in two words as its arguments and returns `true` or `false`. Invoke this function from your main program.\n",
    "- Check that both words are the same length."
   ]
  },
  {
   "cell_type": "code",
   "execution_count": 14,
   "metadata": {
    "collapsed": false
   },
   "outputs": [
    {
     "name": "stdout",
     "output_type": "stream",
     "text": [
      "Enter two strings and I'll tell you if they are anagrams: \n",
      "Enter the first string: note\n",
      "Enter the second string: tone\n",
      "\"note\" and \"tone\" are anagrams\n"
     ]
    }
   ],
   "source": [
    "def problem9():\n",
    "    \n",
    "    print(\"Enter two strings and I'll tell you if they are anagrams: \")\n",
    "    \n",
    "    one = input(\"Enter the first string: \")\n",
    "    two = input(\"Enter the second string: \")\n",
    "    \n",
    "    def isAnagram(one, two):\n",
    "        if len(one) == len(two): # Words of different lengths cannot be anagrams, will not sort words if they are not same length\n",
    "                sone = sorted(one) # Sorted function sorts characters in word alphabetically\n",
    "                stwo = sorted(two)\n",
    "                if sone == stwo: # If the two words are anagrams, they will appear the same while sorted\n",
    "                    print('\"{}\" and \"{}\" are anagrams'.format(one,two)) \n",
    "                else:\n",
    "                     print('\"{}\" and \"{}\" are not anagrams'.format(one,two))  \n",
    "        else:\n",
    "            print(\"These strings are different lengths\")          \n",
    "   \n",
    "    isAnagram(one,two)\n",
    "    \n",
    "problem9()"
   ]
  },
  {
   "cell_type": "markdown",
   "metadata": {},
   "source": [
    "# Problem 10 (4 points)\n",
    "\n",
    "Create a program that determines the complexity of a given password based on these rules:\n",
    "- A very weak password contains only numbers and is fewer than eight characters.\n",
    "- A weak password contains only letters and is fewer than eight characters.\n",
    "- A strong password contains letters and at least one number and is at least eight characters.\n",
    "- A very strong password contains letters, numbers, and special characters and is at least eight characters.\n",
    "\n",
    "## Example Output\n",
    "\n",
    "<pre>\n",
    "The password '12345' is a very weak password.\n",
    "The password 'abcdef' is a weak password.\n",
    "The password 'abc123xyz' is a strong password.\n",
    "The password '1337h@xor!' is a very strong password.\n",
    "</pre>\n",
    "\n",
    "## Constraints\n",
    "\n",
    "- Create a `passwordValidator` function that takes in the password as its argument and returns a value you can evaluate to determine the password strength. Do not have the function return a string — you may need to support multiple languages in the future.\n",
    "- Use a single output statement."
   ]
  },
  {
   "cell_type": "code",
   "execution_count": 46,
   "metadata": {
    "collapsed": false
   },
   "outputs": [
    {
     "name": "stdout",
     "output_type": "stream",
     "text": [
      "Enter your password, I will determine how strong it is: l337h@xor!\n",
      "The password 'l337h@xor!' is a very strong password.\n"
     ]
    }
   ],
   "source": [
    "import re\n",
    "\n",
    "def problem10():   \n",
    "    pword = input(\"Enter your password, I will determine how strong it is: \")\n",
    "    \n",
    "    def passwordValidator(password):\n",
    "         # If the length of the password is less than 8 and has only numbers, returns 1\n",
    "        if len(password) < 8 and re.search('[0-9]', password) and not re.search('[a-zA-z]', password):\n",
    "            return 1\n",
    "         # If the length of the password is less than 8 and has only letters, returns 2\n",
    "        elif len(password) < 8 and re.search('[a-zA-z]', password) and not re.search('[0-9]', password):\n",
    "            return 2\n",
    "        # If length is 8 or above, and contains letters and at least one number, returns 3\n",
    "        elif len(password) >= 8 and re.search('[0-9]', password) and re.search('[a-zA-z]', password) and not re.search(\"[$&+,:;=?@#|'<>.-^*()%!]\",password):\n",
    "            return 3\n",
    "        # If length is 8 or above, contains letters, numbers, and special characters, returns 4\n",
    "        elif len(password) >= 8 and re.search('[0-9]', password) and re.search('[a-zA-z]', password) and re.search(\"[$&+,:;=?@#|'<>.-^*()%!]\",password):\n",
    "            return 4\n",
    "        # If any of the criteria isn't met, returns 5\n",
    "        else:\n",
    "            return 5\n",
    "    \n",
    "    check = (passwordValidator(pword))\n",
    "    \n",
    "    if check == 1:\n",
    "        output = \"very weak\"\n",
    "    elif check == 2:\n",
    "        output = \"weak\"\n",
    "    elif check == 3:\n",
    "        output = \"strong\"\n",
    "    elif check == 4:\n",
    "        output = \"very strong\"\n",
    "    elif check == 5:\n",
    "        output = \"non-criteria matching\"\n",
    "    else:\n",
    "        pass\n",
    "   \n",
    "    print(\"The password '{}' is a {} password.\".format(pword, output))\n",
    "    \n",
    "problem10()"
   ]
  },
  {
   "cell_type": "markdown",
   "metadata": {},
   "source": [
    "# Problem 11 (6 points)\n",
    "\n",
    "Write a program that will help you determine how many months it will take to pay off a credit card balance. The program should ask the user to enter the balance of a credit card and the APR of the card. The program should then return the number of months needed.\n",
    "\n",
    "The formula for this is\n",
    "\n",
    "$n = -\\frac{1}{30} \\times \\frac{\\log(1 + \\frac{b}{p}(1 - (1 + i)^{30}))}{\\log(1+i)}$\n",
    "\n",
    "where\n",
    "\n",
    "- `n` is the number of months.\n",
    "- `i` is the daily rate (APR divided by 365).\n",
    "- `b` is the balance.\n",
    "- `p` is the monthly payment.\n",
    "\n",
    "## Example Output\n",
    "\n",
    "<pre>\n",
    "What is your balance? 5000\n",
    "What is the APR on the card (as a percent)? 12\n",
    "What is the monthly payment you can make? 100\n",
    "\n",
    "It will take you 70 months to pay off this card.\n",
    "</pre>\n",
    "\n",
    "## Constraints\n",
    "\n",
    "- Prompt for the card’s APR. Do the division internally.\n",
    "- Prompt for the APR as a percentage, not a decimal.\n",
    "- Use a function called `calculateMonthsUntilPaidOff`, which accepts the balance, the APR, and the monthly payment as its arguments and returns the number of months. Don’t access any of these values outside the function.\n",
    "- Round fractions of a cent up to the next cent."
   ]
  },
  {
   "cell_type": "code",
   "execution_count": 48,
   "metadata": {
    "collapsed": false
   },
   "outputs": [
    {
     "name": "stdout",
     "output_type": "stream",
     "text": [
      "What is your balance? 5000\n",
      "What is the APR on the card (as a percent)? 12\n",
      "What is the monthly payment you can make? 100\n",
      "It will take you 70 months to pay off this card.\n"
     ]
    }
   ],
   "source": [
    "# Need to figure out equation\n",
    "import math # Math is needed to call the log function\n",
    "\n",
    "def problem11():\n",
    "    \n",
    "    def calculateMonthsUntilPaidOff(balance, apr, pay):\n",
    "            i = ((apr / 100) / 365) \n",
    "            num_months = (-1/30) * ((math.log(1 + (balance / pay) * (1 - (1 + i)**30))) / math.log(1 + i))\n",
    "            return math.ceil(num_months) \n",
    "    \n",
    "    balance = float(input(\"What is your balance? \"))\n",
    "    apr = float(input(\"What is the APR on the card (as a percent)? \"))\n",
    "    pay = float(input(\"What is the monthly payment you can make? \"))\n",
    "\n",
    "    print(\"It will take you {} months to pay off this card.\".format(calculateMonthsUntilPaidOff(balance,apr,pay)))\n",
    "                             \n",
    "problem11()"
   ]
  },
  {
   "cell_type": "markdown",
   "metadata": {},
   "source": [
    "# Problem 12 (4 points)\n",
    "\n",
    "Write a program that prompts for a first name, last name, employee ID, and ZIP code. Ensure that the input is valid according to these rules:\n",
    "\n",
    "- The first name must be filled in.\n",
    "- The last name must be filled in.\n",
    "- The first and last names must be at least two characters long.\n",
    "- An employee ID is in the format AA-1234. So, two letters, a hyphen, and four numbers.\n",
    "- The ZIP code must be a number.\n",
    "\n",
    "Display appropriate error messages on incorrect data.\n",
    "\n",
    "## Example Output\n",
    "\n",
    "<pre>\n",
    "Enter the first name: J\n",
    "Enter the last name:\n",
    "Enter the ZIP code: ABCDE\n",
    "Enter an employee ID:  A12-1234\n",
    "\"J\" is not a valid first name. It is too short.\n",
    "The last name must be filled in.\n",
    "The ZIP code must be numeric.\n",
    "A12-1234 is not a valid ID.\n",
    "</pre>\n",
    "\n",
    "Or\n",
    "\n",
    "<pre>\n",
    "Enter the first name: Jimmy\n",
    "Enter the last name: James\n",
    "Enter the ZIP code: 55555\n",
    "Enter an employee ID:  TK-421\n",
    "There were no errors found.\n",
    "</pre>\n",
    "\n",
    "## Constraints\n",
    "\n",
    "- Create a function for each type of validation you need to write. Then create a `validateInput` function that takes in all of the input data and invokes the specific validation functions.\n",
    "- Use a single output statement to display the outputs."
   ]
  },
  {
   "cell_type": "code",
   "execution_count": 11,
   "metadata": {
    "collapsed": false
   },
   "outputs": [
    {
     "name": "stdout",
     "output_type": "stream",
     "text": [
      "Enter your full first name: Jimmy\n",
      "Enter your full last name: James\n",
      "Enter a zip code: 55555\n",
      "Please enter the employee ID: tk-1234\n",
      "There were no errors found\n"
     ]
    }
   ],
   "source": [
    "# Creates empty lists to contain either an output error message or numeric value to show no errors\n",
    "validation=[]\n",
    "errors=[]\n",
    "# Creates a function that contains all the necessary validation functions\n",
    "def validateInput(validation, errors):\n",
    "#The validate input function takes the score and error variables in and based on the value prints the appropriate output\n",
    "   \n",
    "    # Ensures user input fname fits criteria\n",
    "    def isFirst(fname):\n",
    "        if len(fname) == 0:\n",
    "            errors.append(\"The first name must be filled in\")\n",
    "        if len(fname) < 2:\n",
    "            errors.append(\"{} is not a valid first name. It is too short.\".format(fname))\n",
    "        else:\n",
    "            validation.append(1)\n",
    "    fname= input(\"Enter your full first name: \")\n",
    "    isFirst(fname)\n",
    "\n",
    "    # Ensures user input lname fits criteria\n",
    "    def isLast(lname):\n",
    "        if len(lname) == 0:\n",
    "            errors.append(\"The last name must be filled in\")\n",
    "        if len(lname) < 2 and len(lname) > 0:\n",
    "            print(\"'{}' is not a valid last name. It is too short.\".format(lname))\n",
    "        else: \n",
    "            validation.append(1)\n",
    "    lname= input(\"Enter your full last name: \")\n",
    "    isLast(lname)\n",
    "   \n",
    "    # Ensures user input zip_code fits criteria\n",
    "    def isZip(zip_code):\n",
    "        if zip_code.isnumeric() == False:\n",
    "            errors.append(\"The ZIP code must be numeric!\")\n",
    "        else:\n",
    "            validation.append(1)\n",
    "    zip_code= input(\"Enter a zip code: \")\n",
    "    isZip(zip_code)\n",
    "   \n",
    "    # Ensures user input eid fits criteria\n",
    "    def isID(eid): #eid = employee ID\n",
    "        import re\n",
    "        r = re.compile('aa-\\d{4}')\n",
    "        if len(eid)==7:\n",
    "            if r.match(eid):\n",
    "                validation.append(1)\n",
    "        else:\n",
    "            errors.append(\"{} is not a valid ID\".format(eid))\n",
    "    eid= input(\"Please enter the employee ID: \")\n",
    "    isID(eid)\n",
    "    \n",
    "# If there are errors, they are added to the errors output. If not, the no error message is displayed\n",
    "    if sum(validation) == 3:\n",
    "        out = \"There were no errors found\"\n",
    "    #If the score falls short of perfect, the various error messages will display\n",
    "    else:\n",
    "        out=\"\\n\".join(errors)\n",
    "    print(out)\n",
    "validateInput(validation, errors)"
   ]
  },
  {
   "cell_type": "markdown",
   "metadata": {},
   "source": [
    "# Problem 13 (3 points)\n",
    "\n",
    "Write a program that prompts the user for five numbers and computes the total of the numbers.\n",
    "\n",
    "## Example Output\n",
    "\n",
    "<pre>\n",
    "Enter a number: 1\n",
    "Enter a number: 2\n",
    "Enter a number: 3\n",
    "Enter a number: 4\n",
    "Enter a number: 5\n",
    "The total is 15.\n",
    "</pre>\n",
    "\n",
    "## Constraints\n",
    "\n",
    "- The prompting must use repetition, such as a counted loop, not five separate prompts."
   ]
  },
  {
   "cell_type": "code",
   "execution_count": 51,
   "metadata": {
    "collapsed": false
   },
   "outputs": [
    {
     "name": "stdout",
     "output_type": "stream",
     "text": [
      "Enter a number: 1\n",
      "Enter a number: 2\n",
      "Enter a number: 3\n",
      "Enter a number: 4\n",
      "Enter a number: 5\n",
      "The total is 15.0.\n"
     ]
    }
   ],
   "source": [
    "def problem13():\n",
    "    \n",
    "    total = 0\n",
    "    # Allows user to input a number 5 times, totals it together stored in total\n",
    "    for i in range(5):\n",
    "        num = float(input(\"Enter a number: \"))\n",
    "        total = num + total\n",
    "    print(\"The total is {}.\".format(total))\n",
    "    \n",
    "problem13()"
   ]
  },
  {
   "cell_type": "markdown",
   "metadata": {},
   "source": [
    "# Problem 14 (5 points)\n",
    "\n",
    "Write a quick calculator that prompts for the rate of return on an investment and calculates how many years it will take to double your investment.\n",
    "\n",
    "The formula is $years = 72 / r$, where $r$ is the stated rate of return.\n",
    "\n",
    "## Example Output\n",
    "\n",
    "<pre>\n",
    "What is the rate of return? 0\n",
    "Sorry. That's not a valid input.\n",
    "What is the rate of return? ABC\n",
    "Sorry. That's not a valid input.\n",
    "What is the rate of return? 4\n",
    "It will take 18 years to double your initial investment.\n",
    "</pre>\n",
    "\n",
    "## Constraints\n",
    "\n",
    "- Don’t allow the user to enter 0.\n",
    "- Don’t allow non-numeric values.\n",
    "- Use a loop to trap bad input, so you can ensure that the user enters valid values."
   ]
  },
  {
   "cell_type": "code",
   "execution_count": 52,
   "metadata": {
    "collapsed": false,
    "scrolled": true
   },
   "outputs": [
    {
     "name": "stdout",
     "output_type": "stream",
     "text": [
      "What is the rate of return? 0\n",
      "Sorry that is not valid input.\n",
      "What is the rate of return? ABC\n",
      "Sorry that is not valid input.\n",
      "What is the rate of return? 4\n",
      "It will take 18 years to double your initial investment\n"
     ]
    }
   ],
   "source": [
    "def problem14():       \n",
    "\n",
    "        try:\n",
    "            rate = float(input(\"What is the rate of return? \"))\n",
    "            while rate == 0: # If user inputs 0 or any non-numeric values, will prompt input again until valid values are entered\n",
    "                print(\"Sorry that is not valid input.\")\n",
    "                rate = float(input(\"What is the rate of return? \"))  \n",
    "                \n",
    "            years = 72 / rate\n",
    "            print(\"It will take {:.0f} years to double your initial investment\".format(years))   \n",
    "            \n",
    "        except: # Error handle that tells user that a non-numeric value is not valid\n",
    "            print(\"Sorry that is not valid input.\")\n",
    "            problem14() # Loops back to beginning of function after displaying error message if non-numeric\n",
    "            \n",
    "problem14()"
   ]
  },
  {
   "cell_type": "markdown",
   "metadata": {},
   "source": [
    "# Problem 15 (3 points)\n",
    "\n",
    "Create a program that generates multiplication tables for the numbers 0 through 12.\n",
    "\n",
    "## Example Output\n",
    "\n",
    "<pre>\n",
    "       1    2  ...   12\n",
    "  1    1    2        12\n",
    "  2    2    4        24\n",
    "  :\n",
    " 12   12   24       144\n",
    "</pre>\n",
    "\n",
    "## Constraint\n",
    "\n",
    "- Use a nested loop to complete this program."
   ]
  },
  {
   "cell_type": "code",
   "execution_count": 1,
   "metadata": {
    "collapsed": false
   },
   "outputs": [
    {
     "name": "stdout",
     "output_type": "stream",
     "text": [
      "1\t2\t3\t4\t5\t6\t7\t8\t9\t10\t11\t12\t\n",
      "\n",
      "2\t4\t6\t8\t10\t12\t14\t16\t18\t20\t22\t24\t\n",
      "\n",
      "3\t6\t9\t12\t15\t18\t21\t24\t27\t30\t33\t36\t\n",
      "\n",
      "4\t8\t12\t16\t20\t24\t28\t32\t36\t40\t44\t48\t\n",
      "\n",
      "5\t10\t15\t20\t25\t30\t35\t40\t45\t50\t55\t60\t\n",
      "\n",
      "6\t12\t18\t24\t30\t36\t42\t48\t54\t60\t66\t72\t\n",
      "\n",
      "7\t14\t21\t28\t35\t42\t49\t56\t63\t70\t77\t84\t\n",
      "\n",
      "8\t16\t24\t32\t40\t48\t56\t64\t72\t80\t88\t96\t\n",
      "\n",
      "9\t18\t27\t36\t45\t54\t63\t72\t81\t90\t99\t108\t\n",
      "\n",
      "10\t20\t30\t40\t50\t60\t70\t80\t90\t100\t110\t120\t\n",
      "\n",
      "11\t22\t33\t44\t55\t66\t77\t88\t99\t110\t121\t132\t\n",
      "\n",
      "12\t24\t36\t48\t60\t72\t84\t96\t108\t120\t132\t144\t\n",
      "\n"
     ]
    }
   ],
   "source": [
    "def problem15():\n",
    "    for row in range(1,13): # Creates rows 1-12\n",
    "        for column in range(1,13): # Nests rows into columns 1-12   \n",
    "            print(column * row, end = '\\t') #print statement multiplies the values stored in i and j. end switches the new line to tab\n",
    "        print('\\n') # creates a new line for each row\n",
    "problem15() "
   ]
  },
  {
   "cell_type": "markdown",
   "metadata": {},
   "source": [
    "# Problem 16 (5 points)\n",
    "\n",
    "When getting into a fitness program, you may want to figure out your target heart rate so you don’t overexert yourself. The Karvonen heart rate formula is one method you can use to determine your rate. Create a program that prompts for your age and your resting heart rate. Use the Karvonen formula to determine the target heart rate based on a range of intensities from 55% to 95%. Generate a table with the results as shown in the example output. The formula is\n",
    "\n",
    "$TargetHR = (((220 - age) - restingHR) \\times intensity) + restingHR$\n",
    "\n",
    "## Example Output\n",
    "\n",
    "<pre>\n",
    "Resting Pulse: 65    Age: 22\n",
    "\n",
    "Intensity    | Rate\n",
    "-------------|--------\n",
    "55%          | 138 bpm\n",
    "60%          | 145 bpm\n",
    "65%          | 151 bpm\n",
    " :              :       (extra lines omitted)\n",
    "85%          | 178 bpm\n",
    "90%          | 185 bpm\n",
    "95%          | 191 bpm\n",
    "</pre>\n",
    "\n",
    "## Constraints\n",
    "\n",
    "- Don’t hard-code the percentages. Use a loop to increment the percentages from 55 to 95.\n",
    "- Ensure that the heart rate and age are entered as numbers. Don’t allow the user to continue without entering valid inputs.\n",
    "\n",
    "- Display the results in a tabular format."
   ]
  },
  {
   "cell_type": "code",
   "execution_count": 22,
   "metadata": {
    "collapsed": false
   },
   "outputs": [
    {
     "name": "stdout",
     "output_type": "stream",
     "text": [
      "Enter your age: 26\n",
      "Enter your resting pulse: 70\n",
      "Intensity\t| Rate\n",
      "----------------|--------\n",
      "55%\t\t| 138 bpm\n",
      "60%\t\t| 144 bpm\n",
      "65%\t\t| 151 bpm\n",
      "70%\t\t| 157 bpm\n",
      "75%\t\t| 163 bpm\n",
      "80%\t\t| 169 bpm\n",
      "85%\t\t| 175 bpm\n",
      "90%\t\t| 182 bpm\n",
      "95%\t\t| 188 bpm\n"
     ]
    }
   ],
   "source": [
    "def problem16():\n",
    "    \n",
    "    #Ensures user inputs a valid number for age and pulse\n",
    "    try:\n",
    "        age = int(input(\"Enter your age: \"))\n",
    "        pulse = int(input(\"Enter your resting pulse: \"))\n",
    "        print(\"Intensity\\t| Rate\\n----------------|--------\")\n",
    "        # Starts intensity at 55, iterates until 95\n",
    "        intensity = 55\n",
    "        while intensity < 100: \n",
    "            target_hr = (((220 - age) - pulse) * (intensity/100)) + pulse\n",
    "            # Ensures results are printed in tabular form\n",
    "            print('{}%\\t\\t| {:.0f} bpm'.format(intensity,target_hr))\n",
    "            intensity += 5\n",
    "\n",
    "    except:\n",
    "        print('Please enter a number')\n",
    "        problem16()\n",
    "   \n",
    "problem16()"
   ]
  },
  {
   "cell_type": "markdown",
   "metadata": {},
   "source": [
    "# Problem 17 (4 points)\n",
    "\n",
    "Write a Guess the Number game that has three levels of difficulty. The first level of difficulty would be a number between 1 and 10. The second difficulty set would be between 1 and 100. The third difficulty set would be between 1 and 1000.\n",
    "\n",
    "Prompt for the difficulty level, and then start the game. The computer picks a random number in that range and prompts the player to guess that number. Each time the player guesses, the computer should give the player a hint as to whether the number is too high or too low. The computer should also keep track of the number of guesses. Once the player guesses the correct number, the computer should present the number of guesses and ask if the player would like to play again.\n",
    "\n",
    "## Example Output\n",
    "\n",
    "<pre>\n",
    "Let's play Guess the Number.\n",
    "Pick a difficulty level (1, 2, or 3): 1\n",
    "I have my number. What's your guess? 1\n",
    "Too low.  Guess again: 5\n",
    "Too high. Guess again: 2\n",
    "You got it in 3 guesses!\n",
    "Play again? n\n",
    "Goodbye!\n",
    "</pre>\n",
    "\n",
    "## Constraints\n",
    "\n",
    "- Don’t allow any non-numeric data entry.\n",
    "- During the game, count non-numeric entries as wrong guesses."
   ]
  },
  {
   "cell_type": "code",
   "execution_count": 3,
   "metadata": {
    "collapsed": false
   },
   "outputs": [
    {
     "name": "stdout",
     "output_type": "stream",
     "text": [
      "Let's play Guess the Number.\n",
      "Pick a difficulty level (1, 2, or 3):  1\n",
      "I have my number. What's your guess? 5\n",
      "Too high. Guess again: 2\n",
      "Too high. Guess again: 1\n",
      "You got it in 3 guesses!\n",
      "Would you like to play again? n\n",
      "Goodbye!\n"
     ]
    }
   ],
   "source": [
    "import random\n",
    "\n",
    "def problem17():\n",
    "\n",
    "    count = 0\n",
    "    guess = 0 \n",
    "    \n",
    "    print(\"Let's play Guess the Number.\")\n",
    "    difficulty = int(input(\"Pick a difficulty level (1, 2, or 3):  \"))\n",
    "    # Generates a random number within given range off of user input\n",
    "    if difficulty == 1:\n",
    "        num = random.randrange(1,10)\n",
    "\n",
    "    elif difficulty == 2:\n",
    "        num = random.randrange(1,100)\n",
    "    \n",
    "    elif difficulty == 3:\n",
    "        num = random.randrange(1,1000)\n",
    "   \n",
    "    else: \n",
    "        print('This is not 1, 2, or 3')\n",
    "     \n",
    "    # Tells user if their guess is too low or too high and iterates counter up\n",
    "    while guess != num:\n",
    "        count +=1\n",
    "        guess = int(input(\"I have my number. What's your guess? \"))\n",
    "        while guess < num:\n",
    "            count += 1\n",
    "            guess = int(input(\"Too low. Guess again: \"))\n",
    "        while guess > num:\n",
    "            count += 1\n",
    "            guess = int(input(\"Too high. Guess again: \"))\n",
    "    # Output statement on completion      \n",
    "    if guess == num:\n",
    "        print (\"You got it in {} guesses!\".format(count))\n",
    "        \n",
    "problem17()\n",
    "\n",
    "# Asks user if they want to play again\n",
    "again = input(\"Would you like to play again? \")\n",
    "if again.upper() == 'Y' or again.upper() == 'YES':\n",
    "    problem17()\n",
    "else:\n",
    "    print(\"Goodbye!\")"
   ]
  },
  {
   "cell_type": "markdown",
   "metadata": {},
   "source": [
    "# Problem 18 (3 points)\n",
    "\n",
    "Create a Magic 8 Ball game that prompts for a question and then displays either \"Yes,\" \"No,\" \"Maybe,\" or \"Ask again later.\"\n",
    "\n",
    "## Example Output\n",
    "\n",
    "<pre>\n",
    "What's your question?  Will I be rich and famous?\n",
    "Ask again later.\n",
    "</pre>\n",
    "\n",
    "## Constraint\n",
    "\n",
    "- The value should be chosen randomly using a pseudo random number generator. Store the possible choices in a list and select one at random."
   ]
  },
  {
   "cell_type": "code",
   "execution_count": 12,
   "metadata": {
    "collapsed": false
   },
   "outputs": [
    {
     "name": "stdout",
     "output_type": "stream",
     "text": [
      "What is your question? Will I be rich and famous?\n",
      "Ask again later\n"
     ]
    }
   ],
   "source": [
    "import random\n",
    "\n",
    "def problem18():\n",
    "    option = [\"Yes\", \"No\", \"Maybe\",\"Ask again later\"]\n",
    "\n",
    "    question = input(\"What is your question? \")\n",
    "    print(\"{}\".format(random.choice(option))) # Random.choice will select a random entry from the list option\n",
    "    \n",
    "problem18()"
   ]
  },
  {
   "cell_type": "markdown",
   "metadata": {},
   "source": [
    "# Problem 19 (3 points)\n",
    "\n",
    "Create a small program that contains a list of employee names. Print out the list of names when the program runs the first time. Prompt for an employee name and remove that specific name from the list of names. Display the remaining employees, each on its own line.\n",
    "\n",
    "## Example Output\n",
    "\n",
    "<pre>\n",
    "There are 5 employees:\n",
    "John Smith\n",
    "Jackie Jackson\n",
    "Chris Jones\n",
    "Amanda Cullen\n",
    "Jeremy Goodwin\n",
    "\n",
    "Enter an employee name to remove: Chris Jones\n",
    "\n",
    "There are 4 employees:\n",
    "John Smith\n",
    "Jackie Jackson\n",
    "Amanda Cullen\n",
    "Jeremy Goodwin\n",
    "</pre>\n",
    "\n",
    "## Constraint\n",
    "\n",
    "- Use a sequence or list to store the names."
   ]
  },
  {
   "cell_type": "code",
   "execution_count": 5,
   "metadata": {
    "collapsed": false
   },
   "outputs": [
    {
     "name": "stdout",
     "output_type": "stream",
     "text": [
      "There are 5 employees:\n",
      "John Smith\n",
      "Jackie Jackson\n",
      "Chris Jones\n",
      "Amanda Cullen\n",
      "Jeremy Goodwin\n",
      "\n",
      "Enter an employee name to remove: Chris Jones\n",
      "\n",
      "There are 4 employees:\n",
      "John Smith\n",
      "Jackie Jackson\n",
      "Amanda Cullen\n",
      "Jeremy Goodwin\n"
     ]
    }
   ],
   "source": [
    "# Contained out of function so it does not repeat\n",
    "employees = ['John Smith', 'Jackie Jackson', 'Chris Jones', 'Amanda Cullen', 'Jeremy Goodwin']\n",
    "\n",
    "print('There are 5 employees:')\n",
    "for name in employees:\n",
    "     print(name)\n",
    "\n",
    "def problem19():\n",
    "    name_remove = input(\"\\nEnter an employee name to remove: \")\n",
    "\n",
    "    # If statement checks to see if inputted name is in the employees list, if so it removes from list and prints new list\n",
    "    if name_remove in employees:\n",
    "        new_employees = employees\n",
    "        new_employees.remove(name_remove)\n",
    "        print('\\nThere are 4 employees:')\n",
    "        for name in new_employees:\n",
    "            print(name)\n",
    "    else:\n",
    "         # If user does not input name in correctly, it will re-run function\n",
    "        print('Invalid name or case. Please enter a name from the list in camel case (First Last)\\n')\n",
    "        problem19()\n",
    "    \n",
    "problem19()"
   ]
  },
  {
   "cell_type": "markdown",
   "metadata": {},
   "source": [
    "# Problem 20 (5 points)\n",
    "\n",
    "Create a program that picks a winner for a contest or prize drawing. Prompt for names of contestants until the user leaves the entry blank. Then randomly select a winner.\n",
    "\n",
    "## Example Output\n",
    "\n",
    "<pre>\n",
    "Enter a name: Homer\n",
    "Enter a name: Bart\n",
    "Enter a name: Maggie\n",
    "Enter a name: Lisa\n",
    "Enter a name: Moe\n",
    "Enter a name:\n",
    "The winner is... Maggie.\n",
    "</pre>\n",
    "\n",
    "## Constraints\n",
    "\n",
    "- Use a loop to capture user input into a sequence.\n",
    "- Use a random number generator to pluck a value from the sequence.\n",
    "- Don’t include a blank entry in the sequence."
   ]
  },
  {
   "cell_type": "code",
   "execution_count": null,
   "metadata": {
    "collapsed": false
   },
   "outputs": [],
   "source": [
    "import random\n",
    "\n",
    "def problem20():\n",
    "    # name will be user input, names will be list containing input\n",
    "    name = None\n",
    "    names = []\n",
    "    # Asks for input until a blank entry \n",
    "    while name != '':\n",
    "        name = input(\"Enter a name: \")\n",
    "        names.append(name)\n",
    "    # Ensures the list does not carry a blank entry   \n",
    "    names.remove('')\n",
    "    # Picks a random name from the list names    \n",
    "    winner = random.choice(names)\n",
    "    print (\"The winner is... {}\".format(winner))\n",
    "    \n",
    "problem20()"
   ]
  },
  {
   "cell_type": "markdown",
   "metadata": {},
   "source": [
    "# Problem 21 (6 points)\n",
    "\n",
    "Write a program that prompts for response times from a website in milliseconds. It should keep asking for values until the user enters “done.”\n",
    "\n",
    "The program should print the average time (mean), the minimum time, the maximum time, and the standard deviation.\n",
    "\n",
    "To compute the average (mean)\n",
    "- Compute the sum of all values.\n",
    "- Divide the sum by the number of values.\n",
    "\n",
    "To compute the standard deviation\n",
    "- Calculate the difference from the mean for each number and square it.\n",
    "- Compute the mean of the squared values.\n",
    "- Take the square root of the mean.\n",
    "\n",
    "## Example Output\n",
    "\n",
    "<pre>\n",
    "Enter a number: 100\n",
    "Enter a number: 200\n",
    "Enter a number: 1000\n",
    "Enter a number: 300\n",
    "Enter a number: done\n",
    "\n",
    "Numbers: 100, 200, 1000, 300\n",
    "The average is 400.\n",
    "The minimum is 100.\n",
    "The maximum is 1000.\n",
    "The standard deviation is 400.25.\n",
    "</pre>\n",
    "\n",
    "## Constraints\n",
    "\n",
    "- Use loops and sequences to perform the input and mathematical operations.\n",
    "- Be sure to exclude the “done” entry from the sequence of inputs.\n",
    "- Be sure to properly convert numeric values to strings.\n",
    "- Keep the input separate from the processing and the output."
   ]
  },
  {
   "cell_type": "code",
   "execution_count": 67,
   "metadata": {
    "collapsed": false
   },
   "outputs": [
    {
     "name": "stdout",
     "output_type": "stream",
     "text": [
      "Enter a number: 100\n",
      "Enter a number: 200\n",
      "Enter a number: 300\n",
      "Enter a number: 1000\n",
      "Enter a number: done\n",
      "Numbers: [100, 200, 300, 1000].\n",
      "The average is 400.0.\n",
      "The minimum is 100.\n",
      "The maximum is 1000.\n",
      "The standard deviation is 707.11\n"
     ]
    }
   ],
   "source": [
    "def problem21():\n",
    "    user = \"\"\n",
    "    count = []\n",
    "\n",
    "    # Finds the mean of the inputted numbers\n",
    "    def mean(number):\n",
    "        return sum(number)/len(number)\n",
    "\n",
    "    # Uses formula found online to calculate the standard deviation of the numbers in the list\n",
    "    def stdDev(number):\n",
    "        mean = sum(number) / len(number)\n",
    "        differences = [num - mean for num in number]\n",
    "        sq_differences = [d ** 2 for d in differences]\n",
    "        std = sum(sq_differences)\n",
    "        return pow(std, .5)\n",
    "\n",
    "    # Allows user input until they enter done\n",
    "    while True:\n",
    "        user = input(\"Enter a number: \")\n",
    "        if user.upper() == \"DONE\":\n",
    "            break;\n",
    "        try:\n",
    "            count.append(int(user))\n",
    "        except ValueError:\n",
    "            print(\"{} is not a valid number.\".format(user))\n",
    "\n",
    "    print(\"Numbers: {}.\\nThe average is {}.\\nThe minimum is {}.\\nThe maximum is {}.\\nThe standard deviation is {:.2f}\".format(count,mean(count),min(count),max(count),stdDev(count)))\n",
    "problem21()"
   ]
  },
  {
   "cell_type": "markdown",
   "metadata": {},
   "source": [
    "\n",
    "# Problem 22 (4 points)\n",
    "Create a program that generates a secure password. Prompt the user for the minimum length, the number of special characters, and the number of numbers. Then generate a password for the user using those inputs.\n",
    "    Example Output\n",
    "    What's the minimum length? 8\n",
    "    How many special characters? 2\n",
    "    How many numbers? 2\n",
    "    Your password is\n",
    "    aurn2$1s#\n",
    "Constraints\n",
    "Use lists to store the characters you’ll use to generate the passwords.\n",
    "Add some randomness to the password generation."
   ]
  },
  {
   "cell_type": "code",
   "execution_count": 28,
   "metadata": {
    "collapsed": false
   },
   "outputs": [
    {
     "name": "stdout",
     "output_type": "stream",
     "text": [
      "What is the minimum length? 8\n",
      "How many special characters? 2\n",
      "How many numbers? 2\n",
      "Your password is \n",
      "1G[%Npf3\n"
     ]
    }
   ],
   "source": [
    "def problem22():\n",
    "    \n",
    "    import string\n",
    "    import random\n",
    "\n",
    "    length = int(input(\"What is the minimum length? \"))\n",
    "    char = int(input(\"How many special characters? \"))\n",
    "    nums = int(input(\"How many numbers? \"))\n",
    "\n",
    "    # pa creates the string with random letters, the number of characters depends on the length - number of special characters - numbere of numbers\n",
    "    pa = ''.join(random.choice(string.ascii_letters) for x in range(length - char - nums))\n",
    "    # ss joins random symbols to the string, created for the input number char\n",
    "    ss = ''.join(random.choice(string.punctuation) for x in range(char))\n",
    "    # word joins digits to the string, created for the input number nums\n",
    "    word = ''.join(random.choice(string.digits) for x in range(nums))\n",
    "    # Puts each part of the randomly created password together as password\n",
    "    password = pa + ss + word\n",
    "\n",
    "    # Shuffles the characters in the string password to output a unique random password\n",
    "    shuffle = ''.join(random.sample(password, len(password)))\n",
    "    print(\"Your password is \\n{}\".format(shuffle))\n",
    "    \n",
    "problem22()"
   ]
  },
  {
   "cell_type": "markdown",
   "metadata": {},
   "source": [
    "# Problem 23 (5 points)\n",
    "\n",
    "Create a program that prompts for a list of numbers, separated by spaces. Have the program print out a new list containing only the even numbers.\n",
    "\n",
    "## Example Output\n",
    "\n",
    "<pre>\n",
    "Enter a list of numbers, separated by spaces:  1 2 3 4 5 6 7 8\n",
    "The even numbers are 2 4 6 8.\n",
    "</pre>\n",
    "\n",
    "## Constraints\n",
    "\n",
    "- Convert the input to an sequence. Many languages can easily convert strings to arrays with a built-in function that splits apart a string based on a specified delimiter.\n",
    "- Write your own algorithm — don’t rely on the language’s built-in filter or similar enumeration feature.\n",
    "- Use a function called `filterEvenNumbers` to encapsulate the logic for this. The function takes in the old sequence and returns the new sequence."
   ]
  },
  {
   "cell_type": "code",
   "execution_count": 30,
   "metadata": {
    "collapsed": false
   },
   "outputs": [
    {
     "name": "stdout",
     "output_type": "stream",
     "text": [
      "Enter a list of numbers, seperated by spaces: 1 2 3 4 5 6 7 8\n",
      "The even numbers are: 2 4 6 8\n"
     ]
    }
   ],
   "source": [
    "def problem23():\n",
    "    numbers = input(\"Enter a list of numbers, seperated by spaces: \")\n",
    "    num_split = numbers.split(\" \")\n",
    "# Creates function that only returns even numbers\n",
    "    def filterEvenNumbers(num_split):\n",
    "        num_list = []\n",
    "        for num in num_split:\n",
    "            # If number is divisible by 2 and has no remainder, it is even and number gets added to num_list\n",
    "            if int(num)%2 == 0:\n",
    "                num_list.append(num)\n",
    "        \n",
    "        return num_list\n",
    "    # Prints out list of only even numbers\n",
    "    print(\"The even numbers are: {}\".format(\" \".join(filterEvenNumbers(num_split))))\n",
    "    \n",
    "problem23()"
   ]
  },
  {
   "cell_type": "markdown",
   "metadata": {},
   "source": [
    "# Problem 24 (3 points)\n",
    "\n",
    "Given the following data set\n",
    "\n",
    "<pre>\n",
    "First Name    Last Name    Position             Separation date\n",
    "John          Johnson      Manager              2016-12-31\n",
    "Tou           Xiong        Software Engineer    2016-10-05\n",
    "Michaela      Michaelson   District Manager     2015-12-19\n",
    "Jake          Jacobson     Programmer\n",
    "Jacquelyn     Jackson      DBA\n",
    "Sally         Weber        Web Developer        2015-12-18\n",
    "</pre>\n",
    "\n",
    "create a program that sorts all employees by last name and prints them to the screen in a tabular format.\n",
    "\n",
    "## Example Output\n",
    "\n",
    "<pre>\n",
    "Name                | Position          | Separation Date\n",
    "--------------------|-------------------|----------------\n",
    "Jacquelyn Jackson   | DBA               |\n",
    "Jake Jacobson       | Programmer        |\n",
    "John Johnson        | Manager           | 2016-12-31\n",
    "Michaela Michaelson | District Manager  | 2015-12-19\n",
    "Sally Weber         | Web Developer     | 2015-12-18\n",
    "Tou Xiong           | Software Engineer | 2016-10-05\n",
    "</pre>\n",
    "\n",
    "## Constraint\n",
    "\n",
    "- Implement the data using a sequence of maps."
   ]
  },
  {
   "cell_type": "code",
   "execution_count": 136,
   "metadata": {
    "collapsed": false
   },
   "outputs": [
    {
     "name": "stdout",
     "output_type": "stream",
     "text": [
      "Name                | Position          | Separation Date\n",
      "--------------------|-------------------|----------------\n",
      "Jacquelyn Jackson   | DBA               |    \n",
      "Jake Jacobson       | Programmer        |    \n",
      "John Johnson        | Manager           | 2016-12-31 \n",
      "Michaela Michaelson | District Manager  | 2015-12-19 \n",
      "Sally Weber         | Web Developer     | 2015-12-18 \n",
      "Tou Xiong           | Software Engineer | 2016-10-05 \n"
     ]
    }
   ],
   "source": [
    "def problem24()\n",
    "    import re\n",
    "    # empinfo.txt is a .txt file containing the given data set\n",
    "    with open('empinfo.txt') as data:\n",
    "        # Creates an empty dictionary for employee and empty maps for name, position, and leave\n",
    "        employee=[]\n",
    "        name={}\n",
    "        position={}\n",
    "        leave={}\n",
    "        # Splits across lines\n",
    "        for line in data.readlines()[1:]:\n",
    "            temp=re.split(r'\\s{2,}', line)\n",
    "            try:\n",
    "                int(temp[-1][4])\n",
    "            except:\n",
    "                temp.append(\"  \")\n",
    "            emp.append(temp)\n",
    "        # Creates the output table\n",
    "        for i in emp:\n",
    "            try:\n",
    "                y=int(str(i[-1])[:4])\n",
    "            except:\n",
    "                i.append(\" \")\n",
    "            name[str(i[1])]=(str(i[0])+\" \"+str(i[1]))\n",
    "            position[str(i[1])]=str(i[2]).strip('\\n')\n",
    "            leave[str(i[1])]=str(i[3]).strip('\\n')\n",
    "        print('Name                | Position          | Separation Date')\n",
    "        print(\"--------------------|-------------------|----------------\")\n",
    "\n",
    "        for i in sorted(name):\n",
    "            print('{:20}| {:17} | {} '.format(name[i],position[i],leave[i]))\n",
    "\n",
    "problem24()     "
   ]
  },
  {
   "cell_type": "markdown",
   "metadata": {},
   "source": [
    "# Problem 25 (4 points)\n",
    "\n",
    "Given the following data set\n",
    "\n",
    "<pre>\n",
    "First Name    Last Name    Position             Separation date\n",
    "John          Johnson      Manager              2016-12-31\n",
    "Tou           Xiong        Software Engineer    2016-10-05\n",
    "Michaela      Michaelson   District Manager     2015-12-19\n",
    "Jake          Jacobson     Programmer\n",
    "Jacquelyn     Jackson      DBA\n",
    "Sally         Weber        Web Developer        2015-12-18\n",
    "</pre>\n",
    "\n",
    "create a program that lets a user locate all records that match the search string by comparing the search string to the first or last name field.\n",
    "\n",
    "## Example Output\n",
    "\n",
    "<pre>\n",
    "Enter a search string:  Jac\n",
    "\n",
    "Results:\n",
    "Name                | Position          | Separation Date\n",
    "--------------------|-------------------|----------------\n",
    "Jacquelyn Jackson   | DBA               |\n",
    "Jake Jacobson       | Programmer        |\n",
    "</pre>\n",
    "\n",
    "## Constraint\n",
    "\n",
    "- Implement the data using a sequence of maps or an associative array.\n",
    "- Make the search case insensitive."
   ]
  },
  {
   "cell_type": "code",
   "execution_count": 140,
   "metadata": {
    "collapsed": false
   },
   "outputs": [
    {
     "name": "stdout",
     "output_type": "stream",
     "text": [
      "Enter a search string: jac\n",
      "Name                | Position          | Separation Date\n",
      "--------------------|-------------------|----------------\n",
      "Jacquelyn Jackson   | DBA               |    \n",
      "Jake Jacobson       | Programmer        |    \n"
     ]
    }
   ],
   "source": [
    "def problem25():\n",
    "# Uses same set-up as problem 24   \n",
    "    import re\n",
    "    with open('empinfo.txt') as data:\n",
    "        # Creates an empty dictionary for employee and empty maps for name, position, and leave\n",
    "        employee=[]\n",
    "        name={}\n",
    "        position={}\n",
    "        leave={}\n",
    "        # Splits across lines\n",
    "        for line in data.readlines()[1:]:\n",
    "            temp=re.split(r'\\s{2,}', line)\n",
    "            try:\n",
    "                int(temp[-1][4])\n",
    "            except:\n",
    "                temp.append(\"  \")\n",
    "            emp.append(temp)\n",
    "        # Creates the output table\n",
    "        for i in emp:\n",
    "            try:\n",
    "                y=int(str(i[-1])[:4])\n",
    "            except:\n",
    "                i.append(\" \")\n",
    "            name[str(i[1])]=(str(i[0])+\" \"+str(i[1]))\n",
    "            position[str(i[1])]=str(i[2]).strip('\\n')\n",
    "            leave[str(i[1])]=str(i[3]).strip('\\n')\n",
    "            \n",
    "    search = input(\"Enter a search string: \")       \n",
    "    print('Name                | Position          | Separation Date')\n",
    "    print(\"--------------------|-------------------|----------------\")\n",
    "    # Srch appends any names that contain the search input which is used as output\n",
    "    srch = []\n",
    "    for i in name.keys():\n",
    "        if search.upper() in name[i].upper():\n",
    "            srch.append(i)\n",
    "\n",
    "    for i in sorted(srch):\n",
    "                print('{:20}| {:17} | {} '.format(name[i],position[i],leave[i]))\n",
    "\n",
    "problem25()     \n"
   ]
  },
  {
   "cell_type": "markdown",
   "metadata": {},
   "source": [
    "# Problem 26 (3 points)\n",
    "\n",
    "Create a program that reads in the following list of names:\n",
    "\n",
    "<pre>\n",
    "Ling, Mai\n",
    "Johnson, Jim\n",
    "Zarnecki, Sabrina\n",
    "Jones, Chris\n",
    "Jones, Aaron\n",
    "Swift, Geoffrey\n",
    "Xiong, Fong\n",
    "</pre>\n",
    "\n",
    "Read this program and sort the list alphabetically. Then print the sorted list to a file that looks like the following example output.\n",
    "\n",
    "## Example Output\n",
    "\n",
    "<pre>\n",
    "Total of 7 names\n",
    "-----------------\n",
    "Ling, Mai\n",
    "Johnson, Jim\n",
    "Jones, Aaron\n",
    "Jones, Chris\n",
    "Swift, Geoffrey\n",
    "Xiong, Fong\n",
    "Zarnecki, Sabrina\n",
    "</pre>\n",
    "\n",
    "## Constraint\n",
    "\n",
    "- Don’t hard-code the number of names."
   ]
  },
  {
   "cell_type": "code",
   "execution_count": 141,
   "metadata": {
    "collapsed": false
   },
   "outputs": [
    {
     "name": "stdout",
     "output_type": "stream",
     "text": [
      "Total of 7 names\n",
      "-----------------\n",
      "Johnson, Jim\n",
      "Jones, Aaron\n",
      "Jones, Chris\n",
      "Ling, Mai\n",
      "Swift, Geoffrey\n",
      "Xiong, Fong\n",
      "Zarnecki, Sabrina\n"
     ]
    }
   ],
   "source": [
    "def problem26():\n",
    "    \n",
    "    # Creates a list with the given names\n",
    "    names = ['Ling, Mai','Johnson, Jim','Zarnecki, Sabrina','Jones, Chris', 'Jones, Aaron','Swift, Geoffrey','Xiong, Fong']\n",
    "    names.sort() # Sorts list of names alphabetically\n",
    "    print('Total of {} names\\n-----------------'.format(len(names))) # Counts how many names there are in names \n",
    "    for name in names:\n",
    "        print(name)\n",
    "        \n",
    "problem26()"
   ]
  },
  {
   "cell_type": "markdown",
   "metadata": {},
   "source": [
    "# Problem 27 (5 points)\n",
    "\n",
    "Construct a program that reads in the following data file:\n",
    "\n",
    "<pre>\n",
    "Ling,Mai,55900\n",
    "Johnson,Jim,56500\n",
    "Jones,Aaron,46000\n",
    "Jones,Chris,34500\n",
    "Swift,Geoffrey,14200\n",
    "Xiong,Fong,65000\n",
    "Zarnecki,Sabrina,51500\n",
    "</pre>\n",
    "\n",
    "Process the records and display the results formatted as a table, evenly spaced, as shown in the example output.\n",
    "\n",
    "## Example Output\n",
    "\n",
    "<pre>\n",
    "Last     First     Salary\n",
    "-------------------------\n",
    "Ling     Mai       55900\n",
    "Johnson  Jim       56500\n",
    "Jones    Aaron     46000\n",
    "Jones    Chris     34500\n",
    "Swift    Geoffrey  14200\n",
    "Xiong    Fong      65000\n",
    "Zarnecki Sabrina   51500\n",
    "</pre>\n",
    "\n",
    "## Constraints\n",
    "\n",
    "- Write your own code to parse the data. Don’t use a CSV parser.\n",
    "- Make each column one space longer than the longest value in the column.\n",
    "- Format the salary as currency with dollar signs and commas."
   ]
  },
  {
   "cell_type": "code",
   "execution_count": 180,
   "metadata": {
    "collapsed": false
   },
   "outputs": [
    {
     "name": "stdout",
     "output_type": "stream",
     "text": [
      "Last     First     Salary\n",
      "-------------------------\n",
      "Ling      Mai       $55,900\n",
      "Johnson   Jim       $56,500\n",
      "Jones     Aaron     $46,000\n",
      "Jones     Chris     $34,500\n",
      "Swift     Geoffrey  $14,200\n",
      "Xiong     Fong      $65,000\n",
      "Zarnecki  Sabrina   $51,500\n"
     ]
    }
   ],
   "source": [
    "def problem27():\n",
    "    # salary_list is a placeholder, will contain sorted values from file\n",
    "    salary_list = ''\n",
    "    print('Last     First     Salary\\n-------------------------')\n",
    "    with open(\"salarylist.txt\") as data:\n",
    "        for line in data:\n",
    "            # Splits each value from each other\n",
    "            split = line.split(',')\n",
    "            salary_list = ('{0:<10}{1:<10}${2:,.0f}'.format(split[0],split[1],float(split[2]))) # split[0] is last name, split[1] is first, split[2] is salary\n",
    "            print(salary_list)\n",
    "\n",
    "problem27()    "
   ]
  },
  {
   "cell_type": "markdown",
   "metadata": {},
   "source": [
    "# Problem 28 (4 points)\n",
    "\n",
    "Create a program that takes a product name as input and retrieves the current price and quantity for that product. The product data is in a data file in the JSON format and looks like this:\n",
    "\n",
    "<pre>\n",
    "{\n",
    "  \"products\" : [\n",
    "    {\"name\": \"Widget\", \"price\": 25.00, \"quantity\": 5 },\n",
    "    {\"name\": \"Thing\", \"price\": 15.00, \"quantity\": 5 },\n",
    "    {\"name\": \"Doodad\", \"price\": 5.00, \"quantity\": 10 }\n",
    "  ]\n",
    "}\n",
    "</pre>\n",
    "\n",
    "Print out the product name, price, and quantity if the product is found. If no product matches the search, state that no product was found and start over.\n",
    "\n",
    "Python has a module for working with JSON as part of its standard library: https://docs.python.org/3/library/json.html\n",
    "\n",
    "## Example Output\n",
    "\n",
    "<pre>\n",
    "What is the product name? iPad\n",
    "Sorry, that product was not found in our inventory.\n",
    "What is the product name? Widget\n",
    "Name: Widget\n",
    "Price: $25.00\n",
    "Quantity on hand: 5\n",
    "</pre>\n",
    "\n",
    "## Constraints\n",
    "\n",
    "- The file is in the JSON format. Use a JSON parser to pull the values out of the file.\n",
    "- If no record is found, prompt again."
   ]
  },
  {
   "cell_type": "code",
   "execution_count": 21,
   "metadata": {
    "collapsed": false
   },
   "outputs": [
    {
     "name": "stdout",
     "output_type": "stream",
     "text": [
      "What is the product name? widget\n",
      "Name: Widget\n",
      "Price: $25.0\n",
      "Quantity on hand: 5\n"
     ]
    }
   ],
   "source": [
    "def problem28():\n",
    "    import json\n",
    "    pricing = {}\n",
    "\n",
    "    with open('product.json') as data:    \n",
    "        inventory = json.load(data)\n",
    "    x = True\n",
    "    count = 0 # sets a counter, so if the product is found, program only runs once\n",
    "\n",
    "\n",
    "    while x == True: # Creates a while statement so breaks are possible\n",
    "        pname = input(\"What is the product name? \")\n",
    "        for product in inventory.values():\n",
    "            for item in product:\n",
    "                #Searches to see if input matches anything in json file, if it does it prints the appropriate information\n",
    "                if pname.upper() == item['name'].upper():\n",
    "                    print('Name: {}\\nPrice: ${:.4}\\nQuantity on hand: {}'.format(item['name'],str(item['price']),item['quantity']))\n",
    "                    count = 1\n",
    "                else:\n",
    "                    continue\n",
    "        if  count == 1:\n",
    "            break\n",
    "        else:\n",
    "            print(\"Product was not found in our inventory.\")\n",
    "            \n",
    "problem28()"
   ]
  },
  {
   "cell_type": "markdown",
   "metadata": {},
   "source": [
    "# Problem 29 (4 points)\n",
    "\n",
    "Given an input file, read the file and look for all occurrences of the word utilize. Replace each occurrence with use. Write the modified file to a new file.\n",
    "\n",
    "## Example Output\n",
    "\n",
    "Given the input file of\n",
    "\n",
    "> One should never utilize the word \"utilize\" in writing. Use \"use\" instead.\n",
    "\n",
    "The program should generate an output file containing\n",
    "\n",
    "> One should never use the word \"use\" in writing. Use \"use\" instead.\n",
    "\n",
    "## Constraints\n",
    "\n",
    "- Prompt for the name of the output file.\n",
    "- Write the output to a new file."
   ]
  },
  {
   "cell_type": "code",
   "execution_count": null,
   "metadata": {
    "collapsed": false
   },
   "outputs": [],
   "source": [
    "def problem29():\n",
    "    \n",
    "    f1 = open('in.txt', 'r') # in.txt is the stored name of file containing input string\n",
    "    fname = input(\"What do you want to name your new file? \") # Asks user for output file name\n",
    "    out = fname + '.txt' \n",
    "    f2 = open(out, 'w') # Assigns f2 to create new file with inputted name\n",
    "    for line in f1:\n",
    "        f2.write(line.replace('utilize', 'use')) # replaces utilize with use \n",
    "    f1.close()\n",
    "    f2.close()\n",
    "    \n",
    "problem29()"
   ]
  },
  {
   "cell_type": "markdown",
   "metadata": {},
   "source": [
    "# Problem 30 (3 points)\n",
    "\n",
    "Create a program that reads in a file and counts the frequency of words in the file. Then construct a histogram displaying the words and the frequency, and display the histogram to the screen.\n",
    "\n",
    "## Example Output\n",
    "\n",
    "Given the text file words.txt with this content\n",
    "\n",
    "> badger badger badger badger mushroom mushroom snake badger badger badger\n",
    "\n",
    "the program would produce the following output:\n",
    "\n",
    "<pre>\n",
    "badger:   *******\n",
    "mushroom: **\n",
    "snake:    *\n",
    "</pre>\n",
    "\n",
    "## Constraint\n",
    "\n",
    "- Ensure that the most used word is at the top of the report and the least used words are at the bottom."
   ]
  },
  {
   "cell_type": "code",
   "execution_count": 32,
   "metadata": {
    "collapsed": false
   },
   "outputs": [
    {
     "name": "stdout",
     "output_type": "stream",
     "text": [
      "badger:    *******   \n",
      "mushroom:  **        \n",
      "snake:     *         \n"
     ]
    }
   ],
   "source": [
    "def problem30():\n",
    "   \n",
    "    hist = {}\n",
    "    \n",
    "    with open('words.txt') as data:\n",
    "\n",
    "        for line in data:\n",
    "            #Adds each word to the histogram to be counted and sorted in the function frequency\n",
    "            for word in line.split():\n",
    "                hist[word] = hist.get(word, 0) + 1\n",
    "\n",
    "        def frequency(hist): # Common finds and returns the most frequent words contained in the text stored in descending order\n",
    "            f = []\n",
    "            for k, v in hist.items():\n",
    "                f.append((v, k))\n",
    "            f.sort()\n",
    "            f.reverse()\n",
    "            return f\n",
    "\n",
    "        f = frequency(hist)\n",
    "        for freq, word in f[:]:\n",
    "             # Prints the word with the highest frequency first and it's frequency count represented by *\n",
    "            print('{0:10} {1:10}'.format(word+':','*' * freq))\n",
    "            \n",
    "problem30()"
   ]
  }
 ],
 "metadata": {
  "anaconda-cloud": {},
  "kernelspec": {
   "display_name": "Python [conda root]",
   "language": "python",
   "name": "conda-root-py"
  },
  "language_info": {
   "codemirror_mode": {
    "name": "ipython",
    "version": 3
   },
   "file_extension": ".py",
   "mimetype": "text/x-python",
   "name": "python",
   "nbconvert_exporter": "python",
   "pygments_lexer": "ipython3",
   "version": "3.5.2"
  }
 },
 "nbformat": 4,
 "nbformat_minor": 1
}
